{
 "cells": [
  {
   "cell_type": "code",
   "execution_count": 2,
   "metadata": {},
   "outputs": [],
   "source": [
    "import torch"
   ]
  },
  {
   "cell_type": "code",
   "execution_count": 19,
   "metadata": {},
   "outputs": [
    {
     "name": "stdout",
     "output_type": "stream",
     "text": [
      "tensor([1, 1, 1])\n",
      "torch.Size([3])\n",
      "torch.Size([3])\n"
     ]
    }
   ],
   "source": [
    "#1-D Tensor\n",
    "a = torch.tensor([1,1,1])\n",
    "print(a)\n",
    "print(a.size())\n",
    "print(a.shape)"
   ]
  },
  {
   "cell_type": "code",
   "execution_count": 20,
   "metadata": {},
   "outputs": [
    {
     "name": "stdout",
     "output_type": "stream",
     "text": [
      "tensor([[1, 1, 1],\n",
      "        [2, 2, 2],\n",
      "        [3, 3, 3],\n",
      "        [4, 4, 4]])\n",
      "torch.Size([4, 3])\n",
      "torch.Size([4, 3])\n"
     ]
    }
   ],
   "source": [
    "#2-D Tensor\n",
    "b = torch.tensor([[1,1,1],[2,2,2],[3,3,3],[4,4,4]])\n",
    "print(b)\n",
    "print(b.size())\n",
    "print(b.shape)"
   ]
  },
  {
   "cell_type": "code",
   "execution_count": 21,
   "metadata": {},
   "outputs": [
    {
     "name": "stdout",
     "output_type": "stream",
     "text": [
      "3\n",
      "4\n"
     ]
    }
   ],
   "source": [
    "#Get the height/number of rows of a and b\n",
    "print(a.shape[0])\n",
    "print(b.shape[0])"
   ]
  },
  {
   "cell_type": "code",
   "execution_count": 22,
   "metadata": {},
   "outputs": [
    {
     "name": "stdout",
     "output_type": "stream",
     "text": [
      "tensor([[1., 1., 1.],\n",
      "        [2., 2., 2.],\n",
      "        [3., 3., 3.]])\n",
      "torch.float32\n"
     ]
    }
   ],
   "source": [
    "c = torch.FloatTensor([[1,1,1],[2,2,2],[3,3,3]])\n",
    "#c = torch.tensor([[1,1,1],[2,2,2],[3,3,3]], dtype=torch.float)\n",
    "print(c)\n",
    "print(c.dtype)"
   ]
  },
  {
   "cell_type": "code",
   "execution_count": 23,
   "metadata": {},
   "outputs": [
    {
     "name": "stdout",
     "output_type": "stream",
     "text": [
      "tensor([[1., 1., 1.],\n",
      "        [2., 2., 2.],\n",
      "        [3., 3., 3.]], dtype=torch.float64)\n",
      "torch.float64\n"
     ]
    }
   ],
   "source": [
    "d = torch.DoubleTensor([[1,1,1],[2,2,2],[3,3,3]])\n",
    "#d = torch.tensor([[1,1,1],[2,2,2],[3,3,3]], dtype=torch.double)\n",
    "print(d)\n",
    "print(d.dtype)"
   ]
  },
  {
   "cell_type": "code",
   "execution_count": 24,
   "metadata": {},
   "outputs": [
    {
     "name": "stdout",
     "output_type": "stream",
     "text": [
      "tensor(2.)\n",
      "tensor(2., dtype=torch.float64)\n"
     ]
    }
   ],
   "source": [
    "print(c.mean())\n",
    "print(d.mean())"
   ]
  },
  {
   "cell_type": "code",
   "execution_count": 25,
   "metadata": {},
   "outputs": [
    {
     "name": "stdout",
     "output_type": "stream",
     "text": [
      "tensor(0.8660)\n",
      "tensor(0.8660, dtype=torch.float64)\n"
     ]
    }
   ],
   "source": [
    "print(c.std())\n",
    "print(d.std())"
   ]
  },
  {
   "cell_type": "markdown",
   "metadata": {},
   "source": [
    "Reshape"
   ]
  },
  {
   "cell_type": "code",
   "execution_count": 41,
   "metadata": {},
   "outputs": [
    {
     "name": "stdout",
     "output_type": "stream",
     "text": [
      "tensor([[1],\n",
      "        [1],\n",
      "        [1],\n",
      "        [2],\n",
      "        [2],\n",
      "        [2],\n",
      "        [3],\n",
      "        [3],\n",
      "        [3],\n",
      "        [4],\n",
      "        [4],\n",
      "        [4]])\n",
      "tensor([1, 1, 1, 2, 2, 2, 3, 3, 3, 4, 4, 4])\n",
      "tensor([[1, 1, 1, 2, 2, 2],\n",
      "        [3, 3, 3, 4, 4, 4]])\n",
      "tensor([[1, 1, 1],\n",
      "        [2, 2, 2],\n",
      "        [3, 3, 3],\n",
      "        [4, 4, 4]])\n"
     ]
    }
   ],
   "source": [
    "#Note: if one of the dimensions is -1, its size can be inferred\n",
    "print(b.view(-1,1))\n",
    "print(b.view(12))\n",
    "print(b.view(-1,6))\n",
    "print(b.view(4,3))\n"
   ]
  },
  {
   "cell_type": "code",
   "execution_count": 43,
   "metadata": {},
   "outputs": [
    {
     "name": "stdout",
     "output_type": "stream",
     "text": [
      "tensor([[1, 1, 1, 2, 2, 2, 3, 3, 3, 4, 4, 4]])\n",
      "torch.Size([1, 12])\n"
     ]
    }
   ],
   "source": [
    "#Assign b a new shape\n",
    "b = b.view(1,-1)\n",
    "print(b)\n",
    "print(b.shape)"
   ]
  },
  {
   "cell_type": "code",
   "execution_count": 45,
   "metadata": {},
   "outputs": [
    {
     "name": "stdout",
     "output_type": "stream",
     "text": [
      "tensor([[[-1.2406,  0.3689,  1.2839, -2.0855],\n",
      "         [-0.7604,  2.1656,  0.1488,  0.6354],\n",
      "         [-0.0058,  0.7187, -0.4386, -1.3835]],\n",
      "\n",
      "        [[ 1.0358, -1.0167, -1.1844, -0.3862],\n",
      "         [-1.1852, -0.4440, -0.5527,  0.2087],\n",
      "         [ 1.3530, -0.0049, -0.4344,  0.2745]]])\n",
      "tensor([[-1.2406,  0.3689,  1.2839, -2.0855, -0.7604,  2.1656,  0.1488,  0.6354,\n",
      "         -0.0058,  0.7187, -0.4386, -1.3835],\n",
      "        [ 1.0358, -1.0167, -1.1844, -0.3862, -1.1852, -0.4440, -0.5527,  0.2087,\n",
      "          1.3530, -0.0049, -0.4344,  0.2745]])\n",
      "tensor([[-1.2406,  0.3689,  1.2839, -2.0855, -0.7604,  2.1656,  0.1488,  0.6354,\n",
      "         -0.0058,  0.7187, -0.4386, -1.3835],\n",
      "        [ 1.0358, -1.0167, -1.1844, -0.3862, -1.1852, -0.4440, -0.5527,  0.2087,\n",
      "          1.3530, -0.0049, -0.4344,  0.2745]])\n"
     ]
    }
   ],
   "source": [
    "#Reshape 3D tensor\n",
    "#Create a 3D tensor with 2 channels, 3 rows and 4 columns\n",
    "three_dim = torch.randn(2,3,4)\n",
    "print(three_dim)\n",
    "print(three_dim.view(2,12)) # reshape to 2 rows, 12 columns\n",
    "print(three_dim.view(2,-1))"
   ]
  },
  {
   "cell_type": "code",
   "execution_count": null,
   "metadata": {},
   "outputs": [],
   "source": []
  }
 ],
 "metadata": {
  "kernelspec": {
   "display_name": "base",
   "language": "python",
   "name": "python3"
  },
  "language_info": {
   "codemirror_mode": {
    "name": "ipython",
    "version": 3
   },
   "file_extension": ".py",
   "mimetype": "text/x-python",
   "name": "python",
   "nbconvert_exporter": "python",
   "pygments_lexer": "ipython3",
   "version": "3.10.9"
  },
  "orig_nbformat": 4
 },
 "nbformat": 4,
 "nbformat_minor": 2
}
